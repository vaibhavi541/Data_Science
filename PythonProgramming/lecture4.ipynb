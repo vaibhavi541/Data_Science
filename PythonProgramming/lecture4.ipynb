{
 "cells": [
  {
   "cell_type": "code",
   "execution_count": 3,
   "source": [
    "#Tuple =data structure of python \r\n",
    "# tuple is Immutable whereas list is mutable\r\n",
    " # define tuple : tup()\r\n",
    "tup = () \r\n",
    "tup = (1,2,3,4,5,6,7)\r\n",
    "tup =('hii','hello','bye','welcome','india')\r\n",
    "tup =(1.33,4.3,5.7,6.5)\r\n",
    "tup = (True,False)"
   ],
   "outputs": [],
   "metadata": {}
  },
  {
   "cell_type": "code",
   "execution_count": 4,
   "source": [
    "a = (10,20,3.4,'hey',True,False)"
   ],
   "outputs": [],
   "metadata": {}
  },
  {
   "cell_type": "code",
   "execution_count": 10,
   "source": [
    "a.index(20)\r\n",
    "a.count(10)"
   ],
   "outputs": [
    {
     "output_type": "execute_result",
     "data": {
      "text/plain": [
       "1"
      ]
     },
     "metadata": {},
     "execution_count": 10
    }
   ],
   "metadata": {}
  },
  {
   "cell_type": "code",
   "execution_count": 7,
   "source": [
    "#list is more optimize rather than tuple bcoz this include sort and searching algorithm \r\n",
    "# tuple is find value more faster way in direct value written using count and index function\r\n",
    "# using Concept of Indexing and Slicing using Tuple and List \r\n",
    "tup=(100,200,(300,400,[500,600,700,800],1,2,3),4,5) \r\n",
    "# i want to 600,700 value \r\n",
    "print(tup[2][2][1:3])"
   ],
   "outputs": [
    {
     "output_type": "stream",
     "name": "stdout",
     "text": [
      "[600, 700]\n"
     ]
    }
   ],
   "metadata": {}
  },
  {
   "cell_type": "code",
   "execution_count": 11,
   "source": [
    "# Dictionary is Data Structure of Python Program \r\n",
    "# Dictionary is Mutable in nature\r\n",
    "''' \r\n",
    "dict = {'key' : Value} dictionary is key value format store \r\n",
    "set of contain int float many data type\r\n",
    "'''\r\n",
    "d = {'Country': ['India','USA','UK'],\r\n",
    "'GDP' :[9,6,8,]}\r\n",
    "print(d)"
   ],
   "outputs": [
    {
     "output_type": "stream",
     "name": "stdout",
     "text": [
      "{'Country': ['India', 'USA', 'UK'], 'GDP': [9, 6, 8]}\n"
     ]
    }
   ],
   "metadata": {}
  },
  {
   "cell_type": "code",
   "execution_count": 14,
   "source": [
    "#concept of indexing in dictionary \r\n",
    "# in dictionary find value with  key not directly value call\r\n",
    "d['Country']  \r\n",
    "d['Country'][1] # and always show key after index value \r\n",
    "d.clear()"
   ],
   "outputs": [],
   "metadata": {}
  },
  {
   "cell_type": "code",
   "execution_count": 22,
   "source": [
    "d = {'Country': ['India','USA','UK'],\r\n",
    "'GDP' :[9,6,8,]}\r\n",
    "print(d)\r\n",
    "d.values() "
   ],
   "outputs": [
    {
     "output_type": "stream",
     "name": "stdout",
     "text": [
      "{'Country': ['India', 'USA', 'UK'], 'GDP': [9, 6, 8]}\n"
     ]
    },
    {
     "output_type": "execute_result",
     "data": {
      "text/plain": [
       "dict_values([['India', 'USA', 'UK'], [9, 6, 8]])"
      ]
     },
     "metadata": {},
     "execution_count": 22
    }
   ],
   "metadata": {}
  },
  {
   "cell_type": "code",
   "execution_count": 21,
   "source": [
    "d.values() # show values include in keys\r\n",
    "print(d)\r\n",
    "d['Country'].pop()\r\n",
    "print(d)"
   ],
   "outputs": [
    {
     "output_type": "stream",
     "name": "stdout",
     "text": [
      "{'Country': ['India', 'USA'], 'GDP': [9, 6, 8]}\n",
      "{'Country': ['India'], 'GDP': [9, 6, 8]}\n"
     ]
    }
   ],
   "metadata": {}
  }
 ],
 "metadata": {
  "orig_nbformat": 4,
  "language_info": {
   "name": "python",
   "version": "3.12.7",
   "mimetype": "text/x-python",
   "codemirror_mode": {
    "name": "ipython",
    "version": 3
   },
   "pygments_lexer": "ipython3",
   "nbconvert_exporter": "python",
   "file_extension": ".py"
  },
  "kernelspec": {
   "name": "python3",
   "display_name": "Python 3.12.7 64-bit ('base': conda)"
  },
  "interpreter": {
   "hash": "fa4952b4b82c744d2eb9d1a5a155c393c2a1aa2440fc47eedccd8f89f2892a59"
  }
 },
 "nbformat": 4,
 "nbformat_minor": 2
}