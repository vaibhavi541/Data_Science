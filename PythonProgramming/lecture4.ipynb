{
 "cells": [
  {
   "cell_type": "code",
   "execution_count": 3,
   "source": [
    "#Tuple =data structure of python \r\n",
    "# tuple is Immutable whereas list is mutable\r\n",
    " # define tuple : tup()\r\n",
    " # shoulb be not multiply by float value  in tuple (tup1 * 0.2)\r\n",
    "tup = () \r\n",
    "tup = (1,2,3,4,5,6,7)\r\n",
    "tup =('hii','hello','bye','welcome','india')\r\n",
    "tup =(1.33,4.3,5.7,6.5)\r\n",
    "tup = (True,False)"
   ],
   "outputs": [],
   "metadata": {}
  },
  {
   "cell_type": "code",
   "execution_count": 4,
   "source": [
    "a = (10,20,3.4,'hey',True,False)"
   ],
   "outputs": [],
   "metadata": {}
  },
  {
   "cell_type": "code",
   "execution_count": 10,
   "source": [
    "a.index(20)\r\n",
    "a.count(10)"
   ],
   "outputs": [
    {
     "output_type": "execute_result",
     "data": {
      "text/plain": [
       "1"
      ]
     },
     "metadata": {},
     "execution_count": 10
    }
   ],
   "metadata": {}
  },
  {
   "cell_type": "code",
   "execution_count": 7,
   "source": [
    "#list is more optimize rather than tuple bcoz this include sort and searching algorithm \r\n",
    "# tuple is find value more faster way in direct value written using count and index function\r\n",
    "# using Concept of Indexing and Slicing using Tuple and List \r\n",
    "tup=(100,200,(300,400,[500,600,700,800],1,2,3),4,5) \r\n",
    "# i want to 600,700 value \r\n",
    "print(tup[2][2][1:3])"
   ],
   "outputs": [
    {
     "output_type": "stream",
     "name": "stdout",
     "text": [
      "[600, 700]\n"
     ]
    }
   ],
   "metadata": {}
  },
  {
   "cell_type": "code",
   "execution_count": 11,
   "source": [
    "# Dictionary is Data Structure of Python Program \r\n",
    "# Dictionary is Mutable in nature\r\n",
    "''' \r\n",
    "dict = {'key' : Value} dictionary is key value format store \r\n",
    "set of contain int float many data type\r\n",
    "'''\r\n",
    "d = {'Country': ['India','USA','UK'],\r\n",
    "'GDP' :[9,6,8,]}\r\n",
    "print(d)"
   ],
   "outputs": [
    {
     "output_type": "stream",
     "name": "stdout",
     "text": [
      "{'Country': ['India', 'USA', 'UK'], 'GDP': [9, 6, 8]}\n"
     ]
    }
   ],
   "metadata": {}
  },
  {
   "cell_type": "code",
   "execution_count": 14,
   "source": [
    "#concept of indexing in dictionary \r\n",
    "# in dictionary find value with  key not directly value call\r\n",
    "d['Country']  \r\n",
    "d['Country'][1] # and always show key after index value \r\n",
    "d.clear()"
   ],
   "outputs": [],
   "metadata": {}
  },
  {
   "cell_type": "code",
   "execution_count": 22,
   "source": [
    "d = {'Country': ['India','USA','UK'],\r\n",
    "'GDP' :[9,6,8,]}\r\n",
    "print(d)\r\n",
    "d.values() "
   ],
   "outputs": [
    {
     "output_type": "stream",
     "name": "stdout",
     "text": [
      "{'Country': ['India', 'USA', 'UK'], 'GDP': [9, 6, 8]}\n"
     ]
    },
    {
     "output_type": "execute_result",
     "data": {
      "text/plain": [
       "dict_values([['India', 'USA', 'UK'], [9, 6, 8]])"
      ]
     },
     "metadata": {},
     "execution_count": 22
    }
   ],
   "metadata": {}
  },
  {
   "cell_type": "code",
   "execution_count": 21,
   "source": [
    "d.values() # show values include in keys\r\n",
    "print(d)\r\n",
    "d['Country'].pop()\r\n",
    "print(d)"
   ],
   "outputs": [
    {
     "output_type": "stream",
     "name": "stdout",
     "text": [
      "{'Country': ['India', 'USA'], 'GDP': [9, 6, 8]}\n",
      "{'Country': ['India'], 'GDP': [9, 6, 8]}\n"
     ]
    }
   ],
   "metadata": {}
  },
  {
   "cell_type": "code",
   "execution_count": 6,
   "source": [
    "for i in range(0,10):  # for horizonatal output \r\n",
    "    print (i , end = ' ') "
   ],
   "outputs": [
    {
     "output_type": "stream",
     "name": "stdout",
     "text": [
      "0 1 2 3 4 5 6 7 8 9 "
     ]
    }
   ],
   "metadata": {}
  },
  {
   "cell_type": "code",
   "execution_count": 4,
   "source": [
    "#Loops\r\n",
    "for i in range(0,10):  #\r\n",
    "    print (i) \r\n",
    "   "
   ],
   "outputs": [
    {
     "output_type": "stream",
     "name": "stdout",
     "text": [
      "0\n",
      "01\n",
      "12\n",
      "23\n",
      "34\n",
      "45\n",
      "56\n",
      "67\n",
      "78\n",
      "89\n",
      "9"
     ]
    }
   ],
   "metadata": {}
  },
  {
   "cell_type": "code",
   "execution_count": 2,
   "source": [
    "# In tuple should not multiply by float value ...int value accept\r\n",
    "tup1 = (1,2,3,4)\r\n",
    "tup2 = (5,6,7,8)\r\n",
    "print(tup1 + tup2) # we add tuple but not substract \r\n",
    "print (tup1 *2) # In tuple should not multiply by float value ...int value accept"
   ],
   "outputs": [
    {
     "output_type": "stream",
     "name": "stdout",
     "text": [
      "(1, 2, 3, 4, 5, 6, 7, 8)\n",
      "(1, 2, 3, 4, 1, 2, 3, 4)\n"
     ]
    }
   ],
   "metadata": {}
  },
  {
   "cell_type": "code",
   "execution_count": 7,
   "source": [
    "# If else logic \r\n",
    "num = 100\r\n",
    "if num <= 200:\r\n",
    "    print('num is less than 200')\r\n",
    "else:\r\n",
    "    print('Num is greater than 200 ')"
   ],
   "outputs": [
    {
     "output_type": "stream",
     "name": "stdout",
     "text": [
      "num is less than 200\n"
     ]
    }
   ],
   "metadata": {}
  },
  {
   "cell_type": "code",
   "execution_count": 9,
   "source": [
    "# if else logic example to ask user to input \r\n",
    "marks = float(input('Enter Student Marks : '))\r\n",
    "if marks >= 60:\r\n",
    "    print('Student is Bright .', 'A grade')\r\n",
    "else :\r\n",
    "    print ('Student is Average in studies.')\r\n"
   ],
   "outputs": [
    {
     "output_type": "stream",
     "name": "stdout",
     "text": [
      "Student is Bright . A grade\n"
     ]
    }
   ],
   "metadata": {}
  },
  {
   "cell_type": "code",
   "execution_count": null,
   "source": [
    "'''\r\n",
    "Step 1 :Enter the marks from user \r\n",
    "Step 2 :Logic Building \r\n",
    "        80>= Bright Student\r\n",
    "        60 and 79 = good student\r\n",
    "        40 and 59 = average student\r\n",
    "        below 40 = weak student\r\n",
    "'''\r\n"
   ],
   "outputs": [],
   "metadata": {}
  },
  {
   "cell_type": "code",
   "execution_count": null,
   "source": [
    "#Print whether string is palindrom or not\r\n",
    "''' \r\n",
    "step 1 Input the string from user \r\n",
    "step 2 \r\n",
    "        String = Text\r\n",
    "        string1 == opposite of string then use condition [::-1]\r\n",
    "\r\n",
    "'''\r\n",
    "string = input('Enter the word : ')\r\n",
    "string1 = string[::-1]  # slicing function use for reverse word\r\n",
    "if string == string1:\r\n",
    "    print('this string is palindrom')\r\n",
    "else:\r\n",
    "    print ('entered string is not palindrom')\r\n"
   ],
   "outputs": [],
   "metadata": {}
  }
 ],
 "metadata": {
  "orig_nbformat": 4,
  "language_info": {
   "name": "python",
   "version": "3.12.7",
   "mimetype": "text/x-python",
   "codemirror_mode": {
    "name": "ipython",
    "version": 3
   },
   "pygments_lexer": "ipython3",
   "nbconvert_exporter": "python",
   "file_extension": ".py"
  },
  "kernelspec": {
   "name": "python3",
   "display_name": "Python 3.12.7 64-bit ('base': conda)"
  },
  "interpreter": {
   "hash": "fa4952b4b82c744d2eb9d1a5a155c393c2a1aa2440fc47eedccd8f89f2892a59"
  }
 },
 "nbformat": 4,
 "nbformat_minor": 2
}