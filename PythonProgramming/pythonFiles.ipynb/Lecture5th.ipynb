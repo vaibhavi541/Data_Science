{
 "cells": [
  {
   "cell_type": "code",
   "execution_count": null,
   "source": [
    "''' \r\n",
    "first logic build \r\n",
    "*\r\n",
    "**\r\n",
    "'''\r\n",
    "for n in range(1,8):\r\n",
    "  print(n,n * '*')"
   ],
   "outputs": [],
   "metadata": {}
  },
  {
   "cell_type": "code",
   "execution_count": 1,
   "source": [
    "#PEMDAS IS THE MOST IMPORTANT FOR INTERVIEW PREPARATION ....BRACKETS QUESTION IS MOST IMP \r\n",
    "100//2 # ANSWER WILL BE GET IN INT "
   ],
   "outputs": [
    {
     "output_type": "execute_result",
     "data": {
      "text/plain": [
       "50"
      ]
     },
     "metadata": {},
     "execution_count": 1
    }
   ],
   "metadata": {}
  },
  {
   "cell_type": "code",
   "execution_count": 3,
   "source": [
    "# ANSWER WILL BE USED FOR MODULO OPERATOR \r\n",
    "100%2 # AND ALSO ANY even no divide reminder is 0 and any even no divide for odd no reminder is 1 \r\n",
    "1000 %3"
   ],
   "outputs": [
    {
     "output_type": "execute_result",
     "data": {
      "text/plain": [
       "1"
      ]
     },
     "metadata": {},
     "execution_count": 3
    }
   ],
   "metadata": {}
  },
  {
   "cell_type": "code",
   "execution_count": 2,
   "source": [
    "# ANSWER WIL BE IN FLOAT \r\n",
    "100/2"
   ],
   "outputs": [
    {
     "output_type": "execute_result",
     "data": {
      "text/plain": [
       "50.0"
      ]
     },
     "metadata": {},
     "execution_count": 2
    }
   ],
   "metadata": {}
  },
  {
   "cell_type": "code",
   "execution_count": 6,
   "source": [
    "# exponential methods \r\n",
    "print(4 ** 0.5) #SQUARE ROOT of 4 is 2 = (4) expontial 1/2 ,(4)expont(0.5)=2\r\n",
    "print(5 ** 0.3)"
   ],
   "outputs": [
    {
     "output_type": "stream",
     "name": "stdout",
     "text": [
      "2.0\n",
      "1.6206565966927624\n"
     ]
    }
   ],
   "metadata": {}
  },
  {
   "cell_type": "code",
   "execution_count": 17,
   "source": [
    "'''\r\n",
    "give user no \r\n",
    "and check even or odd\r\n",
    "'''\r\n",
    "num = float(input('Enter the number : '))\r\n",
    "if num%2==0:    # for even no logic \r\n",
    "    print('Entered no is Even ')\r\n",
    "else:\r\n",
    "    print('Entered no is Odd')"
   ],
   "outputs": [
    {
     "output_type": "stream",
     "name": "stdout",
     "text": [
      "Entered no is Even \n"
     ]
    }
   ],
   "metadata": {}
  },
  {
   "cell_type": "code",
   "execution_count": 16,
   "source": [
    "# que. i want to this list in lower case \r\n",
    "a = ['Hello','World','Python']\r\n",
    "for i in a:\r\n",
    "    print(i.lower())\r\n",
    "# i want to list in all lower letters \r\n",
    "\r\n"
   ],
   "outputs": [
    {
     "output_type": "stream",
     "name": "stdout",
     "text": [
      "hello\n",
      "world\n",
      "python\n"
     ]
    }
   ],
   "metadata": {}
  }
 ],
 "metadata": {
  "orig_nbformat": 4,
  "language_info": {
   "name": "python",
   "version": "3.12.7",
   "mimetype": "text/x-python",
   "codemirror_mode": {
    "name": "ipython",
    "version": 3
   },
   "pygments_lexer": "ipython3",
   "nbconvert_exporter": "python",
   "file_extension": ".py"
  },
  "kernelspec": {
   "name": "python3",
   "display_name": "Python 3.12.7 64-bit ('base': conda)"
  },
  "interpreter": {
   "hash": "fa4952b4b82c744d2eb9d1a5a155c393c2a1aa2440fc47eedccd8f89f2892a59"
  }
 },
 "nbformat": 4,
 "nbformat_minor": 2
}