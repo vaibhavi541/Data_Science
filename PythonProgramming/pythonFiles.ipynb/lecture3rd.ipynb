{
 "cells": [
  {
   "cell_type": "code",
   "execution_count": 1,
   "source": [
    "''' \r\n",
    "If any function defined inside a class then such function is called 'Method'\r\n",
    "LIST is a collection of different datatypes  of python arranged in sequence manner.\r\n",
    "Append (): add values in last in the list \r\n",
    "List is Mutable \r\n",
    "'''\r\n",
    "\r\n",
    "lst = [] # blank list\r\n",
    "print (type(lst))\r\n",
    "lst.append(4) # function :method call \r\n",
    "print(lst)\r\n",
    "lst.append(2) #append always add the number at last not first\r\n",
    "print(lst)"
   ],
   "outputs": [
    {
     "output_type": "stream",
     "name": "stdout",
     "text": [
      "<class 'list'>\n",
      "[4]\n",
      "[4, 2]\n"
     ]
    }
   ],
   "metadata": {}
  },
  {
   "cell_type": "code",
   "execution_count": 17,
   "source": [
    "#insert function add the value in the specific index\r\n",
    "#append function add the value in the last \r\n",
    "lst.insert(0,10) # (0,10) i.e 0 is index value and 10 is value\r\n",
    "print (lst)\r\n",
    "lst.clear()\r\n",
    "print(lst)\r\n",
    "lst.insert(0,10)\r\n",
    "print (lst)\r\n",
    "lst.insert(1,30)\r\n",
    "lst\r\n",
    "lst.insert(2,40)\r\n",
    "lst.insert(3,70)"
   ],
   "outputs": [
    {
     "output_type": "stream",
     "name": "stdout",
     "text": [
      "[10, 10, 30, 40]\n",
      "[]\n",
      "[10]\n"
     ]
    }
   ],
   "metadata": {}
  },
  {
   "cell_type": "code",
   "execution_count": 2,
   "source": [
    "#we dont able to add values inside the list in python therefor python convert to numpy\r\n",
    "import numpy as np\r\n",
    "a = np.array(lst)\r\n",
    "a.sum()\r\n",
    "lst "
   ],
   "outputs": [
    {
     "output_type": "error",
     "ename": "NameError",
     "evalue": "name 'lst' is not defined",
     "traceback": [
      "\u001b[1;31m---------------------------------------------------------------------------\u001b[0m",
      "\u001b[1;31mNameError\u001b[0m                                 Traceback (most recent call last)",
      "Cell \u001b[1;32mIn[2], line 3\u001b[0m\n\u001b[0;32m      1\u001b[0m \u001b[38;5;66;03m#we dont able to add values inside the list in python therefor python convert to numpy\u001b[39;00m\n\u001b[0;32m      2\u001b[0m \u001b[38;5;28;01mimport\u001b[39;00m \u001b[38;5;21;01mnumpy\u001b[39;00m \u001b[38;5;28;01mas\u001b[39;00m \u001b[38;5;21;01mnp\u001b[39;00m\n\u001b[1;32m----> 3\u001b[0m a \u001b[38;5;241m=\u001b[39m np\u001b[38;5;241m.\u001b[39marray(lst)\n\u001b[0;32m      4\u001b[0m a\u001b[38;5;241m.\u001b[39msum()\n",
      "\u001b[1;31mNameError\u001b[0m: name 'lst' is not defined"
     ]
    }
   ],
   "metadata": {}
  },
  {
   "cell_type": "code",
   "execution_count": 32,
   "source": [
    "lst\r\n",
    "lst.count(40) # i.e 40 have 2 tymes then output is  2\r\n",
    "lst.index(30)"
   ],
   "outputs": [
    {
     "output_type": "execute_result",
     "data": {
      "text/plain": [
       "1"
      ]
     },
     "metadata": {},
     "execution_count": 32
    }
   ],
   "metadata": {}
  },
  {
   "cell_type": "code",
   "execution_count": 35,
   "source": [
    "# search algorithm \r\n",
    "a = [10,20,50,30,30,30,60]\r\n",
    "a.index(30)"
   ],
   "outputs": [
    {
     "output_type": "execute_result",
     "data": {
      "text/plain": [
       "3"
      ]
     },
     "metadata": {},
     "execution_count": 35
    }
   ],
   "metadata": {}
  },
  {
   "cell_type": "code",
   "execution_count": 2,
   "source": [
    "#sorting algorithm \r\n",
    "m = [100,40,30,60,82,90]\r\n",
    "m.sort()\r\n",
    "print(m)   # sort is function in list data structure \r\n",
    "n= m.copy()\r\n",
    "n #a function is defined in a class \r\n",
    "print(type(m))\r\n",
    "# class is assign in any variable they make object ..i.e n is object "
   ],
   "outputs": [
    {
     "output_type": "error",
     "ename": "TypeError",
     "evalue": "sort() takes no positional arguments",
     "traceback": [
      "\u001b[1;31m---------------------------------------------------------------------------\u001b[0m",
      "\u001b[1;31mTypeError\u001b[0m                                 Traceback (most recent call last)",
      "Cell \u001b[1;32mIn[2], line 3\u001b[0m\n\u001b[0;32m      1\u001b[0m \u001b[38;5;66;03m#sorting algorithm \u001b[39;00m\n\u001b[0;32m      2\u001b[0m m \u001b[38;5;241m=\u001b[39m [\u001b[38;5;241m100\u001b[39m,\u001b[38;5;241m40\u001b[39m,\u001b[38;5;241m30\u001b[39m,\u001b[38;5;241m60\u001b[39m,\u001b[38;5;241m82\u001b[39m,\u001b[38;5;241m90\u001b[39m]\n\u001b[1;32m----> 3\u001b[0m m\u001b[38;5;241m.\u001b[39msort(\u001b[38;5;241m-\u001b[39m\u001b[38;5;241m1\u001b[39m)\n\u001b[0;32m      4\u001b[0m \u001b[38;5;28mprint\u001b[39m(m)   \u001b[38;5;66;03m# sort is function in list data structure \u001b[39;00m\n\u001b[0;32m      5\u001b[0m n\u001b[38;5;241m=\u001b[39m m\u001b[38;5;241m.\u001b[39mcopy()\n",
      "\u001b[1;31mTypeError\u001b[0m: sort() takes no positional arguments"
     ]
    }
   ],
   "metadata": {}
  },
  {
   "cell_type": "code",
   "execution_count": 4,
   "source": [
    "n.extend([51,52,53,54])\r\n",
    "print(n)"
   ],
   "outputs": [
    {
     "output_type": "error",
     "ename": "NameError",
     "evalue": "name 'n' is not defined",
     "traceback": [
      "\u001b[1;31m---------------------------------------------------------------------------\u001b[0m",
      "\u001b[1;31mNameError\u001b[0m                                 Traceback (most recent call last)",
      "Cell \u001b[1;32mIn[4], line 1\u001b[0m\n\u001b[1;32m----> 1\u001b[0m n\u001b[38;5;241m.\u001b[39mextend([\u001b[38;5;241m51\u001b[39m,\u001b[38;5;241m52\u001b[39m,\u001b[38;5;241m53\u001b[39m,\u001b[38;5;241m54\u001b[39m])\n\u001b[0;32m      2\u001b[0m \u001b[38;5;28mprint\u001b[39m(n)\n",
      "\u001b[1;31mNameError\u001b[0m: name 'n' is not defined"
     ]
    }
   ],
   "metadata": {}
  },
  {
   "cell_type": "code",
   "execution_count": 52,
   "source": [
    "m = [100,40,30,60,82,90]\r\n",
    "m.pop() \r\n",
    "print(m) # pop function remove the last value in list\r\n"
   ],
   "outputs": [
    {
     "output_type": "stream",
     "name": "stdout",
     "text": [
      "[100, 40, 30, 60, 82]\n"
     ]
    }
   ],
   "metadata": {}
  },
  {
   "cell_type": "code",
   "execution_count": 53,
   "source": [
    "m.remove(30)\r\n",
    "print(m) # remove works same as search algorithm\\"
   ],
   "outputs": [
    {
     "output_type": "stream",
     "name": "stdout",
     "text": [
      "[100, 40, 60, 82]\n"
     ]
    }
   ],
   "metadata": {}
  },
  {
   "cell_type": "code",
   "execution_count": 60,
   "source": [
    "# concept of Indexing and Slicing\r\n",
    "#indexing is values as located in specified location define\r\n",
    "# slice is method of triming and based on datatype of indexing\r\n",
    "lst = [10,20,40,[100,200,300]] \r\n",
    "# we want to 300 value show logic\r\n",
    "print (lst[3][2])\r\n",
    "\r\n",
    "n = [1,2,[3,[4,[5,6,7,[8],9],10],11],12]\r\n",
    "# we want to 8 value and search index \r\n",
    "print(n [2][1][1][3][0])"
   ],
   "outputs": [
    {
     "output_type": "stream",
     "name": "stdout",
     "text": [
      "300\n",
      "8\n"
     ]
    }
   ],
   "metadata": {}
  }
 ],
 "metadata": {
  "orig_nbformat": 4,
  "language_info": {
   "name": "python",
   "version": "3.12.7",
   "mimetype": "text/x-python",
   "codemirror_mode": {
    "name": "ipython",
    "version": 3
   },
   "pygments_lexer": "ipython3",
   "nbconvert_exporter": "python",
   "file_extension": ".py"
  },
  "kernelspec": {
   "name": "python3",
   "display_name": "Python 3.12.7 64-bit ('base': conda)"
  },
  "interpreter": {
   "hash": "fa4952b4b82c744d2eb9d1a5a155c393c2a1aa2440fc47eedccd8f89f2892a59"
  }
 },
 "nbformat": 4,
 "nbformat_minor": 2
}