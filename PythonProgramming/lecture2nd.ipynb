{
 "cells": [
  {
   "cell_type": "code",
   "execution_count": 6,
   "source": [
    "str = 'Hello World,Welcome to the World of Python Programming'\r\n"
   ],
   "outputs": [],
   "metadata": {}
  },
  {
   "cell_type": "code",
   "execution_count": 4,
   "source": [
    "# concept of indexing \r\n",
    "print(str[4])\r\n",
    "print(str[9])"
   ],
   "outputs": [
    {
     "output_type": "stream",
     "name": "stdout",
     "text": [
      "o\n",
      "l\n"
     ]
    }
   ],
   "metadata": {}
  },
  {
   "cell_type": "code",
   "execution_count": 10,
   "source": [
    "# concept of slicing \r\n",
    "''' \r\n",
    "slicing syntax = [start : End : stop]\r\n",
    ": nothing start to end all print print(str[:])\r\n",
    "slicing start and end from [1:6] to 1 to 5 print \r\n",
    "'''\r\n",
    "#str[start:stop:step]\r\n",
    "print(str[::2]) \r\n",
    "print(str[:5]) # :5 means start 0 to 4 and print Hello\r\n",
    "print(str[::4]) # :: means jump or skip that value and print after value\r\n",
    "print(str[-6:-3])"
   ],
   "outputs": [
    {
     "output_type": "stream",
     "name": "stdout",
     "text": [
      "HloWrdWloet h ol fPto rgamn\n",
      "Hello\n",
      "HorWotho Poran\n",
      "amm\n"
     ]
    }
   ],
   "metadata": {}
  },
  {
   "cell_type": "code",
   "execution_count": 2,
   "source": [
    "# whenever you write in any class any function this called \"method\"\r\n",
    "string = 'Hello World'\r\n",
    "print (string.upper()) #this is function define\r\n",
    "print(string.__len__()) # len is a function/ string method in python is upper and lower \r\n",
    "# define :- () this written is called function with . operator for calling a function string is class {class with . operator call function ..called method }\r\n",
    "# data structure - list ,tuple ,slice Data type - int,string \r\n",
    "print(string.lower()) \r\n",
    "# in string method is upper(), lower() function is defining with . operator with class is called METHOD \r\n",
    "print(len(string))\r\n"
   ],
   "outputs": [
    {
     "output_type": "stream",
     "name": "stdout",
     "text": [
      "HELLO WORLD\n",
      "11\n",
      "hello world\n",
      "11\n"
     ]
    }
   ],
   "metadata": {}
  },
  {
   "cell_type": "code",
   "execution_count": 17,
   "source": [
    "s= 'India is great Country'\r\n",
    "print(s[3:-3:2])\r\n",
    "print (s[2:-5:4])"
   ],
   "outputs": [
    {
     "output_type": "stream",
     "name": "stdout",
     "text": [
      "i sgetCu\n",
      "dir \n"
     ]
    }
   ],
   "metadata": {}
  },
  {
   "cell_type": "code",
   "execution_count": null,
   "source": [
    "# LIST is datastructure of python \r\n",
    "#list is the collection of many datatypes , list is define data typ like int string , list is mutable (change any way values )\r\n",
    "#list append in this bracket added in list lst=[] ,after method write [1] append \r\n",
    "# if any function defined inside a cass then such function called class "
   ],
   "outputs": [],
   "metadata": {}
  },
  {
   "cell_type": "code",
   "execution_count": 28,
   "source": [],
   "outputs": [
    {
     "output_type": "stream",
     "name": "stdout",
     "text": [
      "<class 'list'>\n",
      "[4]\n",
      "[4, 2]\n"
     ]
    }
   ],
   "metadata": {}
  }
 ],
 "metadata": {
  "orig_nbformat": 4,
  "language_info": {
   "name": "python",
   "version": "3.12.7",
   "mimetype": "text/x-python",
   "codemirror_mode": {
    "name": "ipython",
    "version": 3
   },
   "pygments_lexer": "ipython3",
   "nbconvert_exporter": "python",
   "file_extension": ".py"
  },
  "kernelspec": {
   "name": "python3",
   "display_name": "Python 3.12.7 64-bit ('base': conda)"
  },
  "interpreter": {
   "hash": "fa4952b4b82c744d2eb9d1a5a155c393c2a1aa2440fc47eedccd8f89f2892a59"
  }
 },
 "nbformat": 4,
 "nbformat_minor": 2
}