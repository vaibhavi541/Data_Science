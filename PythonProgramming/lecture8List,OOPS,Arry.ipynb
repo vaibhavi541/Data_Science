{
 "cells": [
  {
   "cell_type": "code",
   "execution_count": 1,
   "source": [
    "# list comprehension \r\n",
    "# is converted big code in into the small code in bracket with condition \r\n",
    " \r\n",
    "lst = []\r\n",
    "for i in range(10):\r\n",
    "    lst.append(i**2)   #list append with square\r\n",
    "print(lst)"
   ],
   "outputs": [
    {
     "output_type": "stream",
     "name": "stdout",
     "text": [
      "[0, 1, 4, 9, 16, 25, 36, 49, 64, 81]\n"
     ]
    }
   ],
   "metadata": {}
  },
  {
   "cell_type": "code",
   "execution_count": 2,
   "source": [
    "lst = [i**2 for i in range(10)] # same result with this syntax .. i**2 is prefix of for loop\r\n",
    "lst "
   ],
   "outputs": [
    {
     "output_type": "execute_result",
     "data": {
      "text/plain": [
       "[0, 1, 4, 9, 16, 25, 36, 49, 64, 81]"
      ]
     },
     "metadata": {},
     "execution_count": 2
    }
   ],
   "metadata": {}
  },
  {
   "cell_type": "code",
   "execution_count": 9,
   "source": [
    "# i want to sum of all even no in list \r\n",
    "lst = [1,2,3,4,5,6,7,8,9,10]\r\n",
    "# sum of even no. using moduleo operator and for loop \r\n",
    "[i for i in lst if i%2 == 0]  # give all even numbers\r\n",
    "sum([i for i in lst if i%2 == 0]) # i is prefix of for loop sum of all even no in a list\r\n",
    "\r\n",
    "# any planar entity(z axis is absent) is best example of 2D dimential eg. Paper have only height and len \r\n",
    "# Rasterisation turning on pixel specific intensity at specific time a picture, ViewPort , DesignView\r\n"
   ],
   "outputs": [
    {
     "output_type": "execute_result",
     "data": {
      "text/plain": [
       "30"
      ]
     },
     "metadata": {},
     "execution_count": 9
    }
   ],
   "metadata": {}
  },
  {
   "cell_type": "code",
   "execution_count": 5,
   "source": [
    "# OOPS \r\n",
    "# CLASS provide means of bundling Data and functionality together . create new class creates new type of object allowing .new instance of that can be made called object\r\n",
    "# any function define in a class called method \r\n",
    "\r\n",
    "class ClassName: # always define class using camelcasing\r\n",
    "     # is the attributes of class\r\n",
    "     # always common things written in constructor like acc no name \r\n",
    "    def __init__(self):   # is the Define method : Constructor : Special function  \r\n",
    "        self.num1=100\r\n",
    "        self.num2=200\r\n",
    "    # Self using for \r\n",
    "    def Sum(self): # Define method / function of class \r\n",
    "        print(self.num1 + self.num2)\r\n",
    "    def Mul(self):\r\n",
    "        print(self.num1 * self.num2)\r\n",
    "    \r\n",
    "# Create a Object : A \r\n",
    "A = ClassName()\r\n",
    "#Calling a sum function using . operator,always calling function using this..its use for big code\r\n",
    "ans=A.Sum()\r\n",
    "ans1=A.Mul()\r\n",
    "print(ans)\r\n",
    "print(ans1)\r\n",
    "# library manage system knowledge project with the use of OOPs using inheritance,polymrphsm\r\n"
   ],
   "outputs": [
    {
     "output_type": "stream",
     "name": "stdout",
     "text": [
      "300\n",
      "20000\n",
      "None\n",
      "None\n"
     ]
    }
   ],
   "metadata": {}
  },
  {
   "cell_type": "code",
   "execution_count": null,
   "source": [
    "# Class Definition \r\n"
   ],
   "outputs": [],
   "metadata": {}
  }
 ],
 "metadata": {
  "orig_nbformat": 4,
  "language_info": {
   "name": "python",
   "version": "3.12.7",
   "mimetype": "text/x-python",
   "codemirror_mode": {
    "name": "ipython",
    "version": 3
   },
   "pygments_lexer": "ipython3",
   "nbconvert_exporter": "python",
   "file_extension": ".py"
  },
  "kernelspec": {
   "name": "python3",
   "display_name": "Python 3.12.7 64-bit ('base': conda)"
  },
  "interpreter": {
   "hash": "fa4952b4b82c744d2eb9d1a5a155c393c2a1aa2440fc47eedccd8f89f2892a59"
  }
 },
 "nbformat": 4,
 "nbformat_minor": 2
}