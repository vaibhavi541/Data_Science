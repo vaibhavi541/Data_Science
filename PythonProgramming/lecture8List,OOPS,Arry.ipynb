{
 "cells": [
  {
   "cell_type": "code",
   "execution_count": 1,
   "metadata": {},
   "outputs": [
    {
     "name": "stdout",
     "output_type": "stream",
     "text": [
      "[0, 1, 4, 9, 16, 25, 36, 49, 64, 81]\n"
     ]
    }
   ],
   "source": [
    "# list comprehension \n",
    "# is converted big code in into the small code in bracket with condition \n",
    "# we can create own defined list with the use of list comprehension and conditions loop\n",
    "lst = []\n",
    "for i in range(10):\n",
    "    lst.append(i**2)   #list append with square\n",
    "print(lst)"
   ]
  },
  {
   "cell_type": "code",
   "execution_count": 2,
   "metadata": {},
   "outputs": [
    {
     "data": {
      "text/plain": [
       "[0, 1, 4, 9, 16, 25, 36, 49, 64, 81]"
      ]
     },
     "execution_count": 2,
     "metadata": {},
     "output_type": "execute_result"
    }
   ],
   "source": [
    "lst = [i**2 for i in range(10)] # same result with this syntax .. i**2 is prefix of for loop\n",
    "lst "
   ]
  },
  {
   "cell_type": "code",
   "execution_count": 9,
   "metadata": {},
   "outputs": [
    {
     "data": {
      "text/plain": [
       "30"
      ]
     },
     "execution_count": 9,
     "metadata": {},
     "output_type": "execute_result"
    }
   ],
   "source": [
    "# i want to sum of all even no in list \n",
    "lst = [1,2,3,4,5,6,7,8,9,10]\n",
    "# sum of even no. using moduleo % operator and for loop \n",
    "[i for i in lst if i%2 == 0]  # give all even numbers\n",
    "sum([i for i in lst if i%2 == 0]) # i is prefix of for loop sum of all even no in a list.given output\n",
    "\n",
    "# any planar entity(z axis is absent) is best example of 2D dimential eg. Paper have only height and len \n",
    "# Rasterisation turning on pixel specific intensity at specific time a picture, ViewPort , DesignView\n"
   ]
  },
  {
   "cell_type": "code",
   "execution_count": 5,
   "metadata": {},
   "outputs": [
    {
     "name": "stdout",
     "output_type": "stream",
     "text": [
      "300\n",
      "20000\n",
      "None\n",
      "None\n"
     ]
    }
   ],
   "source": [
    "# OOPS \n",
    "# CLASS provide means of bundling Data and functionality together . create new class creates new type of object allowing .new instance of that can be made called object\n",
    "# any function define in a class called method \n",
    "\n",
    "class ClassName: # always define class using camelcasing\n",
    "     # is the attributes of class\n",
    "     # always common things written in constructor like acc no name \n",
    "    def __init__(self):   # is the Define method : Constructor : Special function  \n",
    "        self.num1=100\n",
    "        self.num2=200\n",
    "    # Self using for \n",
    "    def Sum(self): # Define method / function of class \n",
    "        print(self.num1 + self.num2)\n",
    "    def Mul(self):\n",
    "        print(self.num1 * self.num2)\n",
    "    \n",
    "# Create a Object : A \n",
    "A = ClassName()\n",
    "#Calling a sum function using . operator,always calling function using this..its use for big code\n",
    "ans=A.Sum()\n",
    "ans1=A.Mul()\n",
    "print(ans)\n",
    "print(ans1)\n",
    "# library manage system knowledge project with the use of OOPs using inheritance,polymrphsm\n"
   ]
  },
  {
   "cell_type": "code",
   "execution_count": 3,
   "metadata": {},
   "outputs": [
    {
     "name": "stdout",
     "output_type": "stream",
     "text": [
      "hhh\n",
      "rrrrrr\n"
     ]
    }
   ],
   "source": [
    "# Class Definition \n",
    "class Dog:\n",
    "    kind = 'Good Boy'\n",
    "\n",
    "    def __init__(self):\n",
    "        self.eye = input('Enter the eyes colour : ')\n",
    "        self.breed = input('Enter the Breed : ')\n",
    "        self.sound = input('Enter the sound: ')\n",
    "\n",
    "    def sound(self):\n",
    "        print(self.sound)\n",
    "a=Dog()\n",
    "print(a.eye)\n",
    "print(a.sound)"
   ]
  },
  {
   "cell_type": "code",
   "execution_count": 4,
   "metadata": {},
   "outputs": [
    {
     "name": "stdout",
     "output_type": "stream",
     "text": [
      "hiiii\n",
      "petrol\n"
     ]
    }
   ],
   "source": [
    "''' Inheritance code\n",
    "class Parent:\n",
    "    \n",
    "    def __init__(self):\n",
    "        self.name= name\n",
    "        self.age = age \n",
    "class Child(Parent):\n",
    "    def __init__(self):\n",
    "        self.marks = makedirs\n",
    "a= Parent()\n",
    "a.age\n",
    "b.marks '''\n",
    "\n",
    "# SIMPLE Inheritance CODE In OOPS \n",
    "class Car:   #parent class\n",
    "    def __init__(self):   #create constructor always class created\n",
    "        print('hiiii')\n",
    "    # creating a function Engine \n",
    "    def Engine(self):    \n",
    "        self.engine= input('Enter the engine type : ')\n",
    "        print(self.engine)\n",
    "# \n",
    "# Define child class\n",
    "class PetrolCar(Car):\n",
    "    def __init__(self):\n",
    "        print('BYE')\n",
    "a = Car()\n",
    "a.Engine()\n",
    "        \n",
    "\n"
   ]
  },
  {
   "cell_type": "code",
   "execution_count": 5,
   "metadata": {},
   "outputs": [
    {
     "name": "stdout",
     "output_type": "stream",
     "text": [
      "rani has 89999 in a account.\n",
      "saving account interest rate is : 6%\n"
     ]
    }
   ],
   "source": [
    "#Inheritance Examples ...we can Inherit properties of the parent to child \n",
    "#Define Parent class\n",
    "class Account:\n",
    "    #define create constructor __init__(self)this is special method\n",
    "    def __init__(self,name,balance):\n",
    "        self.name= name\n",
    "        self.balance= balance\n",
    "\n",
    "    def show_balance(self):\n",
    "        print(f'{self.name} has {self.balance} in a account.')\n",
    "    \n",
    "class SavingsAccount(Account):\n",
    "    def show_interest_rate(self):\n",
    "        print('saving account interest rate is : 6%')\n",
    "\n",
    "# Inherited  behaviour    \n",
    "b = SavingsAccount(\"rani\",89999)\n",
    "b.show_balance()\n",
    "b.show_interest_rate()\n",
    "\n",
    "        "
   ]
  },
  {
   "cell_type": "code",
   "execution_count": 20,
   "metadata": {},
   "outputs": [
    {
     "name": "stdout",
     "output_type": "stream",
     "text": [
      "Singing is habbit of parents \n",
      "Grand parent say hiii\n"
     ]
    }
   ],
   "source": [
    "# inheritance example in real worlds \n",
    "# define parent class\n",
    "class GrandParent:\n",
    "    # define constructor \n",
    "    def __init__(self,surname):\n",
    "        self.surname = surname\n",
    "        \n",
    "    def Greet(self):\n",
    "        print('Grand parent say hiii')\n",
    "class Parent(GrandParent):\n",
    "    def __init__(self):\n",
    "        self.habbit= 'Singing'\n",
    "    def show_habbit(self):\n",
    "        print(f'{self.habbit} is habbit of parents ')\n",
    "\n",
    "p = Parent()\n",
    "p.show_habbit()\n",
    "p.Greet()\n"
   ]
  }
 ],
 "metadata": {
  "interpreter": {
   "hash": "fa4952b4b82c744d2eb9d1a5a155c393c2a1aa2440fc47eedccd8f89f2892a59"
  },
  "kernelspec": {
   "display_name": "Python 3.12.7 64-bit ('base': conda)",
   "name": "python3"
  },
  "language_info": {
   "codemirror_mode": {
    "name": "ipython",
    "version": 3
   },
   "file_extension": ".py",
   "mimetype": "text/x-python",
   "name": "python",
   "nbconvert_exporter": "python",
   "pygments_lexer": "ipython3",
   "version": "3.12.7"
  },
  "orig_nbformat": 4
 },
 "nbformat": 4,
 "nbformat_minor": 2
}
