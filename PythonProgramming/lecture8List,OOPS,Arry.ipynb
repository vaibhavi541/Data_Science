{
 "cells": [
  {
   "cell_type": "code",
   "execution_count": 1,
   "source": [
    "# list comprehension \r\n",
    "# is converted big code in into the small code in bracket with condition \r\n",
    "# we can create own defined list with the use of list comprehension and conditions loop\r\n",
    "lst = []\r\n",
    "for i in range(10):\r\n",
    "    lst.append(i**2)   #list append with square\r\n",
    "print(lst)"
   ],
   "outputs": [
    {
     "output_type": "stream",
     "name": "stdout",
     "text": [
      "[0, 1, 4, 9, 16, 25, 36, 49, 64, 81]\n"
     ]
    }
   ],
   "metadata": {}
  },
  {
   "cell_type": "code",
   "execution_count": 2,
   "source": [
    "lst = [i**2 for i in range(10)] # same result with this syntax .. i**2 is prefix of for loop\r\n",
    "lst "
   ],
   "outputs": [
    {
     "output_type": "execute_result",
     "data": {
      "text/plain": [
       "[0, 1, 4, 9, 16, 25, 36, 49, 64, 81]"
      ]
     },
     "metadata": {},
     "execution_count": 2
    }
   ],
   "metadata": {}
  },
  {
   "cell_type": "code",
   "execution_count": 9,
   "source": [
    "# i want to sum of all even no in list \r\n",
    "lst = [1,2,3,4,5,6,7,8,9,10]\r\n",
    "# sum of even no. using moduleo % operator and for loop \r\n",
    "[i for i in lst if i%2 == 0]  # give all even numbers\r\n",
    "sum([i for i in lst if i%2 == 0]) # i is prefix of for loop sum of all even no in a list.given output\r\n",
    "\r\n",
    "# any planar entity(z axis is absent) is best example of 2D dimential eg. Paper have only height and len \r\n",
    "# Rasterisation turning on pixel specific intensity at specific time a picture, ViewPort , DesignView\r\n"
   ],
   "outputs": [
    {
     "output_type": "execute_result",
     "data": {
      "text/plain": [
       "30"
      ]
     },
     "metadata": {},
     "execution_count": 9
    }
   ],
   "metadata": {}
  },
  {
   "cell_type": "code",
   "execution_count": 5,
   "source": [
    "# OOPS \r\n",
    "# CLASS provide means of bundling Data and functionality together . create new class creates new type of object allowing .new instance of that can be made called object\r\n",
    "# any function define in a class called method \r\n",
    "\r\n",
    "class ClassName: # always define class using camelcasing\r\n",
    "     # is the attributes of class\r\n",
    "     # always common things written in constructor like acc no name \r\n",
    "    def __init__(self):   # is the Define method : Constructor : Special function  \r\n",
    "        self.num1=100\r\n",
    "        self.num2=200\r\n",
    "    # Self using for \r\n",
    "    def Sum(self): # Define method / function of class \r\n",
    "        print(self.num1 + self.num2)\r\n",
    "    def Mul(self):\r\n",
    "        print(self.num1 * self.num2)\r\n",
    "    \r\n",
    "# Create a Object : A \r\n",
    "A = ClassName()\r\n",
    "#Calling a sum function using . operator,always calling function using this..its use for big code\r\n",
    "ans=A.Sum()\r\n",
    "ans1=A.Mul()\r\n",
    "print(ans)\r\n",
    "print(ans1)\r\n",
    "# library manage system knowledge project with the use of OOPs using inheritance,polymrphsm\r\n"
   ],
   "outputs": [
    {
     "output_type": "stream",
     "name": "stdout",
     "text": [
      "300\n",
      "20000\n",
      "None\n",
      "None\n"
     ]
    }
   ],
   "metadata": {}
  },
  {
   "cell_type": "code",
   "execution_count": 3,
   "source": [
    "# Class Definition \r\n",
    "class Dog:\r\n",
    "    kind = 'Good Boy'\r\n",
    "\r\n",
    "    def __init__(self):\r\n",
    "        self.eye = input('Enter the eyes colour : ')\r\n",
    "        self.breed = input('Enter the Breed : ')\r\n",
    "        self.sound = input('Enter the sound: ')\r\n",
    "\r\n",
    "    def sound(self):\r\n",
    "        print(self.sound)\r\n",
    "a=Dog()\r\n",
    "print(a.eye)\r\n",
    "print(a.sound)"
   ],
   "outputs": [
    {
     "output_type": "stream",
     "name": "stdout",
     "text": [
      "hhh\n",
      "rrrrrr\n"
     ]
    }
   ],
   "metadata": {}
  },
  {
   "cell_type": "code",
   "execution_count": 4,
   "source": [
    "''' Inheritance code\r\n",
    "class Parent:\r\n",
    "    \r\n",
    "    def __init__(self):\r\n",
    "        self.name= name\r\n",
    "        self.age = age \r\n",
    "class Child(Parent):\r\n",
    "    def __init__(self):\r\n",
    "        self.marks = makedirs\r\n",
    "a= Parent()\r\n",
    "a.age\r\n",
    "b.marks '''\r\n",
    "\r\n",
    "# SIMPLE Inheritance CODE In OOPS \r\n",
    "class Car:   #parent class\r\n",
    "    def __init__(self):   #create constructor always class created\r\n",
    "        print('hiiii')\r\n",
    "    # creating a function Engine \r\n",
    "    def Engine(self):    \r\n",
    "        self.engine= input('Enter the engine type : ')\r\n",
    "        print(self.engine)\r\n",
    "# \r\n",
    "# Define child class\r\n",
    "class PetrolCar(Car):\r\n",
    "    def __init__(self):\r\n",
    "        print('BYE')\r\n",
    "a = Car()\r\n",
    "a.Engine()\r\n",
    "        \r\n",
    "\r\n"
   ],
   "outputs": [
    {
     "output_type": "stream",
     "name": "stdout",
     "text": [
      "hiiii\n",
      "petrol\n"
     ]
    }
   ],
   "metadata": {}
  },
  {
   "cell_type": "code",
   "execution_count": 5,
   "source": [
    "#Inheritance Examples ...we can Inherit properties of the parent to child \r\n",
    "#Define Parent class\r\n",
    "class Account:\r\n",
    "    #define create constructor __init__(self)this is special method\r\n",
    "    def __init__(self,name,balance):\r\n",
    "        self.name= name\r\n",
    "        self.balance= balance\r\n",
    "\r\n",
    "    def show_balance(self):\r\n",
    "        print(f'{self.name} has {self.balance} in a account.')\r\n",
    "    \r\n",
    "class SavingsAccount(Account):\r\n",
    "    def show_interest_rate(self):\r\n",
    "        print('saving account interest rate is : 6%')\r\n",
    "\r\n",
    "# Inherited  behaviour    \r\n",
    "b = SavingsAccount(\"rani\",89999)\r\n",
    "b.show_balance()\r\n",
    "b.show_interest_rate()\r\n",
    "\r\n",
    "        "
   ],
   "outputs": [
    {
     "output_type": "stream",
     "name": "stdout",
     "text": [
      "rani has 89999 in a account.\n",
      "saving account interest rate is : 6%\n"
     ]
    }
   ],
   "metadata": {}
  },
  {
   "cell_type": "code",
   "execution_count": 20,
   "source": [
    "# inheritance example in real worlds \r\n",
    "# define parent class\r\n",
    "class GrandParent:\r\n",
    "    # define constructor \r\n",
    "    def __init__(self,surname):\r\n",
    "        self.surname = surname\r\n",
    "        \r\n",
    "    def Greet(self):\r\n",
    "        print('Grand parent say hiii')\r\n",
    "class Parent(GrandParent):\r\n",
    "    def __init__(self):\r\n",
    "        self.habbit= 'Singing'\r\n",
    "    def show_habbit(self):\r\n",
    "        print(f'{self.habbit} is habbit of parents ')\r\n",
    "\r\n",
    "p = Parent()\r\n",
    "p.show_habbit()\r\n",
    "p.Greet()\r\n"
   ],
   "outputs": [
    {
     "output_type": "stream",
     "name": "stdout",
     "text": [
      "Singing is habbit of parents \n",
      "Grand parent say hiii\n"
     ]
    }
   ],
   "metadata": {}
  }
 ],
 "metadata": {
  "orig_nbformat": 4,
  "language_info": {
   "name": "python",
   "version": "3.12.7",
   "mimetype": "text/x-python",
   "codemirror_mode": {
    "name": "ipython",
    "version": 3
   },
   "pygments_lexer": "ipython3",
   "nbconvert_exporter": "python",
   "file_extension": ".py"
  },
  "kernelspec": {
   "name": "python3",
   "display_name": "Python 3.12.7 64-bit ('base': conda)"
  },
  "interpreter": {
   "hash": "fa4952b4b82c744d2eb9d1a5a155c393c2a1aa2440fc47eedccd8f89f2892a59"
  }
 },
 "nbformat": 4,
 "nbformat_minor": 2
}