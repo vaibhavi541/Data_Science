{
 "cells": [
  {
   "cell_type": "code",
   "execution_count": 2,
   "source": [
    "#Lamda function is customized , is a one line function,it passes argument in function \r\n",
    " #is the one def funct and lamda function difference\r\n",
    "\r\n",
    "\r\n",
    "squares = lambda x: x**2\r\n",
    "print(squares(5))"
   ],
   "outputs": [
    {
     "output_type": "stream",
     "name": "stdout",
     "text": [
      "25\n"
     ]
    }
   ],
   "metadata": {}
  },
  {
   "cell_type": "code",
   "execution_count": 7,
   "source": [
    "#create calculator using lambda and def function\r\n",
    "# 1st you ask user to numbers \r\n",
    "def calculator():\r\n",
    "    choice = input('Enter the choice : ')\r\n",
    "    a = float(input('Enter the 1st number: '))\r\n",
    "    b = float(input('Enter the 2nd number: '))\r\n",
    "    if choice =='1': \r\n",
    "        add = lambda a,b: a+b\r\n",
    "        print(add(a,b))\r\n",
    "    elif choice =='2':\r\n",
    "        sub = lambda a,b: a-b\r\n",
    "        print(sub(a,b))\r\n",
    "    elif choice=='3':\r\n",
    "        divide = lambda a,b: a/b\r\n",
    "        print(divide(a,b))\r\n",
    "calculator()"
   ],
   "outputs": [
    {
     "output_type": "stream",
     "name": "stdout",
     "text": [
      "7.0\n"
     ]
    }
   ],
   "metadata": {}
  },
  {
   "cell_type": "code",
   "execution_count": 8,
   "source": [
    "#correct modify code in clean code \r\n",
    "''' \r\n",
    "ask the user for values and assign they for global value \r\n",
    "'''\r\n",
    "num1 =float(input('Enter the First Number:'))\r\n",
    "num2 =float(input('Enter second number: '))\r\n",
    "\r\n",
    "# math functions call and assign \r\n",
    "add = lambda num1,num2: (num1+num2)\r\n",
    "sub = lambda num1,num2: (num1-num2)\r\n",
    "div = lambda num1,num2: (num1/num2)\r\n",
    "multiply = lambda num1,num2: (num1*num2)\r\n",
    "\r\n",
    "#defining a function \r\n",
    "def calculator():\r\n",
    "    global num1,num2\r\n",
    "    choice = input('Enter the choice : ')\r\n",
    "\r\n",
    "    if choice=='1':\r\n",
    "        ans=add(num1,num2)\r\n",
    "        print(ans)\r\n",
    "    elif choice=='2':\r\n",
    "        ans=sub(num1,num2)\r\n",
    "        print(ans)\r\n",
    "    elif choice=='3':\r\n",
    "        ans=div(num1,num2)\r\n",
    "        print(ans)\r\n",
    "    elif choice=='4':\r\n",
    "        ans=multiply(num1,num2)\r\n",
    "        print(ans)\r\n",
    "    else :\r\n",
    "        print('enter valid choice ')\r\n",
    "# function calling \r\n",
    "calculator()\r\n"
   ],
   "outputs": [
    {
     "output_type": "stream",
     "name": "stdout",
     "text": [
      "0.6\n"
     ]
    }
   ],
   "metadata": {}
  },
  {
   "cell_type": "code",
   "execution_count": 12,
   "source": [
    "# MAP FUNCTION  also use encoding function \r\n",
    "# it is typecast the datastructure i.e list (map(lambda x: x**2)) they\r\n",
    "squares = list(map(lambda x: x**2, range(0,10)))\r\n",
    "squares\r\n",
    "#range (start:stop:step) --- arrange function call\r\n",
    "squares = tuple(map(lambda x: x**2, range(0,10,2)))\r\n",
    "squares"
   ],
   "outputs": [
    {
     "output_type": "execute_result",
     "data": {
      "text/plain": [
       "(0, 4, 16, 36, 64)"
      ]
     },
     "metadata": {},
     "execution_count": 12
    }
   ],
   "metadata": {}
  },
  {
   "cell_type": "code",
   "execution_count": 16,
   "source": [
    "#Filter function \r\n",
    "num =[1,2,3,4,5,6,7]\r\n",
    "even=list(filter(lambda x: x%2 ==0,num))\r\n",
    "print(even)"
   ],
   "outputs": [
    {
     "output_type": "stream",
     "name": "stdout",
     "text": [
      "[1, 3, 5, 7]\n"
     ]
    }
   ],
   "metadata": {}
  },
  {
   "cell_type": "code",
   "execution_count": 27,
   "source": [
    "#que.\r\n",
    "'''\r\n",
    "step 1 : create list using lambda function\r\n",
    "step 2 : evaluate sum of all even no in list \r\n",
    "step 3 : the above code in function sum\r\n",
    "'''\r\n",
    "lst = [1,2,3,4,5,6,7,8,9,10]\r\n",
    "# defining a function sum()\r\n",
    "def sum():\r\n",
    "\r\n",
    "    # sum of all even no in list\r\n",
    "    sum = 0\r\n",
    "    for i in range(0,10):\r\n",
    "        if i %2 ==0:\r\n",
    "            sum = sum + i\r\n",
    "    print(sum)\r\n",
    "# function calling \r\n",
    "sum()"
   ],
   "outputs": [
    {
     "output_type": "stream",
     "name": "stdout",
     "text": [
      "20\n"
     ]
    }
   ],
   "metadata": {}
  },
  {
   "cell_type": "code",
   "execution_count": null,
   "source": [],
   "outputs": [],
   "metadata": {}
  }
 ],
 "metadata": {
  "orig_nbformat": 4,
  "language_info": {
   "name": "python",
   "version": "3.12.7",
   "mimetype": "text/x-python",
   "codemirror_mode": {
    "name": "ipython",
    "version": 3
   },
   "pygments_lexer": "ipython3",
   "nbconvert_exporter": "python",
   "file_extension": ".py"
  },
  "kernelspec": {
   "name": "python3",
   "display_name": "Python 3.12.7 64-bit ('base': conda)"
  },
  "interpreter": {
   "hash": "fa4952b4b82c744d2eb9d1a5a155c393c2a1aa2440fc47eedccd8f89f2892a59"
  }
 },
 "nbformat": 4,
 "nbformat_minor": 2
}