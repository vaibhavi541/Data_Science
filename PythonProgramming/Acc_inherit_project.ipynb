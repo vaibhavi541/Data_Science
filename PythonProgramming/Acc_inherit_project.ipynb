{
 "cells": [
  {
   "cell_type": "code",
   "execution_count": 1,
   "source": [
    "#Inheritance Examples ...we can Inherit properties of the parent to child \r\n",
    "#Define Parent class\r\n",
    "''' for reference '''\r\n",
    "class Account: \r\n",
    "    #define create constructor __init__(self)this is special method\r\n",
    "    def __init__(self,name,balance):\r\n",
    "        self.name= name\r\n",
    "        self.balance= balance\r\n",
    "\r\n",
    "    def show_balance(self):\r\n",
    "        print(f'{self.name} has {self.balance} in a account.')\r\n",
    "    \r\n",
    "class SavingsAccount(Account):\r\n",
    "    def show_interest_rate(self):\r\n",
    "        print('saving account interest rate is : 6%')\r\n",
    "\r\n",
    "# Inherited behaviour    \r\n",
    "b = SavingsAccount(\"rani\",89999)\r\n",
    "b.show_balance()\r\n",
    "b.show_interest_rate()\r\n",
    "\r\n",
    "        \r\n"
   ],
   "outputs": [
    {
     "output_type": "stream",
     "name": "stdout",
     "text": [
      "rani has 89999 in a account.\n",
      "saving account interest rate is : 6%\n"
     ]
    }
   ],
   "metadata": {}
  },
  {
   "cell_type": "code",
   "execution_count": 1,
   "source": [
    "# Bank module with the help of inheritance and polymorphism\r\n",
    "# define Parent Class\r\n",
    "class Bank():\r\n",
    "    def __init__(self) :\r\n",
    "        self.accounts=[]\r\n",
    "        self.name = input('Enter a Name: ')\r\n",
    "        self.age = input('Enter the Age : ')\r\n",
    "        self.acc_no = input('Enter the Account No. : ')\r\n",
    "        self.add = input('Enter the Address : ')\r\n",
    "        self.balance=input('Enter sufficint balance in acc')\r\n",
    "        choice = int(input('Enter a choice (1-4):'))\r\n",
    "    def create_accounts():\r\n",
    "        print('\\n select Account Type: ')\r\n",
    "\r\n",
    "    def show_info(self):\r\n",
    "        print(f'the User name is {self.name}  their age is {self.age} they stay at {self.add} and account no {self.acc_no}')\r\n",
    "\r\n",
    "class SavingAccount(Bank):\r\n",
    "    def __init__(self,name ,acc_no,balance,interest_rate):\r\n",
    "        self.name=name\r\n",
    "        self.acc_no=acc_no\r\n",
    "        self.balance=balance\r\n",
    "        self.interest_rate=interest_rate\r\n",
    "    # Deposited amount in saving acc\r\n",
    "    def Deposite(self,amount):\r\n",
    "        self.balance += amount  # after cash deposite balance shown\r\n",
    "        print(f\"Deposited ₹{amount}. New balance shows: ₹{self.balance}\")\r\n",
    "class CurrentAccount(Bank):\r\n",
    "    def __init__(self,name ,acc_no,balance,interest_rate):\r\n",
    "        self.name=name\r\n",
    "        self.acc_no=acc_no\r\n",
    "        self.balance=balance\r\n",
    "        self.min_balance=min_balance\r\n",
    "    \r\n",
    "A = Bank() #A is the Object of Bank\r\n",
    "save = SavingAccount() # save is the object of Savingacc\r\n",
    "cure = CurrentAccount() # cure is object of the currentacc\r\n",
    "A.show_info() # call the object with function\r\n",
    "        "
   ],
   "outputs": [
    {
     "output_type": "error",
     "ename": "TypeError",
     "evalue": "SavingAccount.__init__() missing 4 required positional arguments: 'name', 'acc_no', 'balance', and 'interest_rate'",
     "traceback": [
      "\u001b[1;31m---------------------------------------------------------------------------\u001b[0m",
      "\u001b[1;31mTypeError\u001b[0m                                 Traceback (most recent call last)",
      "Cell \u001b[1;32mIn[1], line 36\u001b[0m\n\u001b[0;32m     33\u001b[0m         \u001b[38;5;28mself\u001b[39m\u001b[38;5;241m.\u001b[39mmin_balance\u001b[38;5;241m=\u001b[39mmin_balance\n\u001b[0;32m     35\u001b[0m A \u001b[38;5;241m=\u001b[39m Bank() \u001b[38;5;66;03m#A is the Object of Bank\u001b[39;00m\n\u001b[1;32m---> 36\u001b[0m save \u001b[38;5;241m=\u001b[39m SavingAccount() \u001b[38;5;66;03m# save is the object of Savingacc\u001b[39;00m\n\u001b[0;32m     37\u001b[0m cure \u001b[38;5;241m=\u001b[39m CurrentAccount() \u001b[38;5;66;03m# cure is object of the currentacc\u001b[39;00m\n\u001b[0;32m     38\u001b[0m A\u001b[38;5;241m.\u001b[39mshow_info()\n",
      "\u001b[1;31mTypeError\u001b[0m: SavingAccount.__init__() missing 4 required positional arguments: 'name', 'acc_no', 'balance', and 'interest_rate'"
     ]
    }
   ],
   "metadata": {}
  },
  {
   "cell_type": "code",
   "execution_count": null,
   "source": [],
   "outputs": [],
   "metadata": {}
  }
 ],
 "metadata": {
  "orig_nbformat": 4,
  "language_info": {
   "name": "python",
   "version": "3.12.7",
   "mimetype": "text/x-python",
   "codemirror_mode": {
    "name": "ipython",
    "version": 3
   },
   "pygments_lexer": "ipython3",
   "nbconvert_exporter": "python",
   "file_extension": ".py"
  },
  "kernelspec": {
   "name": "python3",
   "display_name": "Python 3.12.7 64-bit ('base': conda)"
  },
  "interpreter": {
   "hash": "fa4952b4b82c744d2eb9d1a5a155c393c2a1aa2440fc47eedccd8f89f2892a59"
  }
 },
 "nbformat": 4,
 "nbformat_minor": 2
}