{
 "cells": [
  {
   "cell_type": "code",
   "execution_count": null,
   "source": [
    "'''\r\n",
    "Pickle and unPickle\r\n",
    "    import pickle\r\n",
    "    def save_model(model, path):\r\n",
    "        with open(path,'wb') as file :    'wb' write binary in file\r\n",
    "            pickle.dump(model,file)\r\n",
    "    \r\n",
    "    def load_model(path):\r\n",
    "        with open(path,'rb') as file:\r\n",
    "            return pickle.load(file)\r\n",
    "'''\r\n",
    "# most important code for create log file\r\n",
    "'''\r\n",
    "import logging\r\n",
    "logging.basicConfig(level=logging.INFO,\r\n",
    "filename = 'fileHandling.log'\r\n",
    "filemode = 'w'\r\n",
    "format = '%(asctime)s - %(levelname)s - %(message)s',\r\n",
    "force = True )\r\n",
    "'''\r\n",
    "# and calling the logs.....logging.info('i want to learn')and run this"
   ],
   "outputs": [],
   "metadata": {}
  }
 ],
 "metadata": {
  "orig_nbformat": 4,
  "language_info": {
   "name": "python"
  }
 },
 "nbformat": 4,
 "nbformat_minor": 2
}