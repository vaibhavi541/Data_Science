{
 "cells": [
  {
   "cell_type": "code",
   "execution_count": 4,
   "source": [
    "# Que. Justify List , Set and Dictionary is mutable \r\n",
    "# justify tuple is immutable\r\n",
    "\r\n",
    "#Recursive function function called by itself called recursive \r\n",
    "#5! = 5*4*\r\n",
    "\r\n",
    "def factorial(n):        # recursive function syntax \r\n",
    "    if n==1:        \r\n",
    "        return 1\r\n",
    "    else:\r\n",
    "        return n * factorial(n-1)\r\n",
    "print(factorial(6))  # calling funtion "
   ],
   "outputs": [
    {
     "output_type": "stream",
     "name": "stdout",
     "text": [
      "720\n"
     ]
    }
   ],
   "metadata": {}
  },
  {
   "cell_type": "code",
   "execution_count": 38,
   "source": [
    "''' Ques.\r\n",
    "balance = 10,000\r\n",
    "press 1. Balance amt\r\n",
    "    2. Withdraw amt\r\n",
    "    3. Deposite amt \r\n",
    " ''' \r\n",
    "def balance_amount():\r\n",
    "    print('')\r\n",
    "balance = 10000\r\n",
    "def bank():\r\n",
    "    global balance\r\n",
    "    print(balance)\r\n",
    "    choice=input('Enter the Choice : ')\r\n",
    "    if choice == '1':\r\n",
    "        balance_amount()       \r\n",
    "bank()"
   ],
   "outputs": [
    {
     "output_type": "stream",
     "name": "stdout",
     "text": [
      "10000\n",
      "\n"
     ]
    }
   ],
   "metadata": {}
  },
  {
   "cell_type": "code",
   "execution_count": 28,
   "source": [
    "'''  \r\n",
    "correct ans as follows\r\n",
    "when 2 global value amount and threshold \r\n",
    "function define\r\n",
    "withdraw value only define as in local variable and apply condition \r\n",
    "universal function run in last \r\n",
    "\r\n",
    "'''\r\n",
    "amount = 10000\r\n",
    "threshold =2000\r\n",
    "def balance_amount():\r\n",
    "    global amount\r\n",
    "    print('the balance amount is ', amount)\r\n",
    "     \r\n",
    "def credit_amount():\r\n",
    "    global threshold\r\n",
    "def bank():\r\n",
    "    choice= input('enter the choice = ' )\r\n",
    "    if choice=='1':\r\n",
    "        balance_amount()\r\n",
    "    elif choice=='2':\r\n",
    "        withdraw_Amount()\r\n",
    "    elif choice=='3':\r\n",
    "        credit_amount()\r\n",
    "\r\n",
    "def withdraw_Amount():\r\n",
    "    global amount\r\n",
    "    global threshold\r\n",
    "\r\n",
    "    withdraw = float(input('enter the amount: '))\r\n",
    "    if withdraw >= threshold:\r\n",
    "        new_balance = amount - withdraw\r\n",
    "        print(' New Balance is ', new_balance)\r\n",
    "    else :\r\n",
    "        print('you can withdraw amnt ')\r\n",
    "        \r\n",
    "\r\n",
    "bank()"
   ],
   "outputs": [
    {
     "output_type": "stream",
     "name": "stdout",
     "text": [
      " New Balance is  5000.0\n"
     ]
    }
   ],
   "metadata": {}
  }
 ],
 "metadata": {
  "orig_nbformat": 4,
  "language_info": {
   "name": "python",
   "version": "3.12.7",
   "mimetype": "text/x-python",
   "codemirror_mode": {
    "name": "ipython",
    "version": 3
   },
   "pygments_lexer": "ipython3",
   "nbconvert_exporter": "python",
   "file_extension": ".py"
  },
  "kernelspec": {
   "name": "python3",
   "display_name": "Python 3.12.7 64-bit ('base': conda)"
  },
  "interpreter": {
   "hash": "fa4952b4b82c744d2eb9d1a5a155c393c2a1aa2440fc47eedccd8f89f2892a59"
  }
 },
 "nbformat": 4,
 "nbformat_minor": 2
}