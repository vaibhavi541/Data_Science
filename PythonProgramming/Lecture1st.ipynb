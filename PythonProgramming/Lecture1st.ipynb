{
 "cells": [
  {
   "cell_type": "markdown",
   "source": [
    "## Introduction\r\n"
   ],
   "metadata": {}
  },
  {
   "cell_type": "code",
   "execution_count": 1,
   "source": [
    "# Data Types used in Python Programming \r\n",
    "#single line Comment \r\n",
    "\r\n",
    "''' \r\n",
    "1. int : Integer\r\n",
    "2. Float : Decimal Values\r\n",
    "3. String : Text Information\r\n",
    "4. Boolean : True or False // multi line comments\r\n",
    "'''\r\n",
    "# Data Type Definition\r\n",
    "# = : this is Assignment operator always used assign in every values \r\n",
    "num = 100\r\n",
    "# num is a variable 100 is a value.  i.e n = 10 , a=12\r\n",
    "num1 = 100.345 \r\n",
    "str = 'Hello world'\r\n",
    "boolean = True\r\n",
    "boolean1 = False\r\n",
    "# Que. What are the different Data types in Python \r\n",
    "# PCEP certificate basic\r\n"
   ],
   "outputs": [],
   "metadata": {}
  },
  {
   "cell_type": "code",
   "execution_count": 2,
   "source": [
    "print (num)\r\n",
    "# print num value"
   ],
   "outputs": [
    {
     "output_type": "stream",
     "name": "stdout",
     "text": [
      "100\n"
     ]
    }
   ],
   "metadata": {}
  },
  {
   "cell_type": "code",
   "execution_count": 3,
   "source": [
    "print ('num')\r\n",
    "# print as it is string letter num "
   ],
   "outputs": [
    {
     "output_type": "stream",
     "name": "stdout",
     "text": [
      "num\n"
     ]
    }
   ],
   "metadata": {}
  },
  {
   "cell_type": "code",
   "execution_count": 5,
   "source": [
    "num + num1\r\n",
    "# int + int = integer add value\r\n",
    "# '1234' + '2345' = concatenate values i.e print 1234587 in string values always concate \r\n"
   ],
   "outputs": [
    {
     "output_type": "execute_result",
     "data": {
      "text/plain": [
       "200.345"
      ]
     },
     "metadata": {},
     "execution_count": 5
    }
   ],
   "metadata": {}
  },
  {
   "cell_type": "code",
   "execution_count": 8,
   "source": [
    "a ='1234'\r\n",
    "b = '6789'\r\n",
    "c = 2\r\n",
    "print (a+b)\r\n",
    "# print values concate in string \r\n",
    "# int + str = error string always with number print always error \r\n",
    "# string \r\n",
    "print(a*c) # one number and string values multiply with they no like a ='1234' and c=2 2 tyms print value\r\n",
    "print (a+c)\r\n"
   ],
   "outputs": [
    {
     "output_type": "stream",
     "name": "stdout",
     "text": [
      "12346789\n",
      "12341234\n"
     ]
    },
    {
     "output_type": "error",
     "ename": "TypeError",
     "evalue": "can only concatenate str (not \"int\") to str",
     "traceback": [
      "\u001b[1;31m---------------------------------------------------------------------------\u001b[0m",
      "\u001b[1;31mTypeError\u001b[0m                                 Traceback (most recent call last)",
      "Cell \u001b[1;32mIn[8], line 9\u001b[0m\n\u001b[0;32m      5\u001b[0m \u001b[38;5;66;03m# print values concate in string \u001b[39;00m\n\u001b[0;32m      6\u001b[0m \u001b[38;5;66;03m# int + str = error string always with number print always error \u001b[39;00m\n\u001b[0;32m      7\u001b[0m \u001b[38;5;66;03m# string \u001b[39;00m\n\u001b[0;32m      8\u001b[0m \u001b[38;5;28mprint\u001b[39m(a\u001b[38;5;241m*\u001b[39mc) \u001b[38;5;66;03m# one number and string values multiply with they no like a ='1234' and c=2 2 tyms print value\u001b[39;00m\n\u001b[1;32m----> 9\u001b[0m \u001b[38;5;28mprint\u001b[39m (a\u001b[38;5;241m+\u001b[39mc)\n",
      "\u001b[1;31mTypeError\u001b[0m: can only concatenate str (not \"int\") to str"
     ]
    }
   ],
   "metadata": {}
  },
  {
   "cell_type": "code",
   "execution_count": 9,
   "source": [
    "# Input function \r\n",
    "num1 = input('Enter 1st number : ')\r\n",
    "num2 = input ('Enter 2nd Number: ')\r\n",
    "\r\n",
    "print(num1 + num2)"
   ],
   "outputs": [
    {
     "output_type": "stream",
     "name": "stdout",
     "text": [
      "2060\n"
     ]
    }
   ],
   "metadata": {}
  },
  {
   "cell_type": "code",
   "execution_count": 10,
   "source": [
    "# Input function \r\n",
    "# typecasting : converting string to integer \r\n",
    "# float allow int and float values to user and int only allow int value and get error when float values enter\r\n",
    "num1 = float(input('Enter 1st number : '))\r\n",
    "num2 = float(input ('Enter 2nd Number: '))\r\n",
    "\r\n",
    "print(num1 + num2)"
   ],
   "outputs": [
    {
     "output_type": "stream",
     "name": "stdout",
     "text": [
      "83.0\n"
     ]
    }
   ],
   "metadata": {}
  },
  {
   "cell_type": "code",
   "execution_count": 11,
   "source": [
    "#f string method  formated string combination of numbers + text which is input enter\r\n",
    "name = input('Enter the name : ')\r\n",
    "age = float (input('enter the age in years : '))\r\n",
    "\r\n",
    "print (f' The Entered name of the Person is {name} having age is {age}')\r\n"
   ],
   "outputs": [
    {
     "output_type": "stream",
     "name": "stdout",
     "text": [
      " The Entered name of the Person is Vaibhu having age is 23.0\n"
     ]
    }
   ],
   "metadata": {}
  },
  {
   "cell_type": "code",
   "execution_count": null,
   "source": [
    "# enter users in "
   ],
   "outputs": [],
   "metadata": {}
  }
 ],
 "metadata": {
  "orig_nbformat": 4,
  "language_info": {
   "name": "python",
   "version": "3.12.7",
   "mimetype": "text/x-python",
   "codemirror_mode": {
    "name": "ipython",
    "version": 3
   },
   "pygments_lexer": "ipython3",
   "nbconvert_exporter": "python",
   "file_extension": ".py"
  },
  "kernelspec": {
   "name": "python3",
   "display_name": "Python 3.12.7 64-bit ('base': conda)"
  },
  "interpreter": {
   "hash": "fa4952b4b82c744d2eb9d1a5a155c393c2a1aa2440fc47eedccd8f89f2892a59"
  }
 },
 "nbformat": 4,
 "nbformat_minor": 2
}