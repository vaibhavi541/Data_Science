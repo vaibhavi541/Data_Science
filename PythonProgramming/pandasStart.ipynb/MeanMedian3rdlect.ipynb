{
 "cells": [
  {
   "cell_type": "code",
   "execution_count": null,
   "id": "5af545b6",
   "metadata": {},
   "outputs": [
    {
     "ename": "NameError",
     "evalue": "name 'df' is not defined",
     "output_type": "error",
     "traceback": [
      "\u001b[1;31m---------------------------------------------------------------------------\u001b[0m",
      "\u001b[1;31mNameError\u001b[0m                                 Traceback (most recent call last)",
      "Cell \u001b[1;32mIn[1], line 7\u001b[0m\n\u001b[0;32m      1\u001b[0m \u001b[38;5;66;03m#Imputation Strategy\u001b[39;00m\n\u001b[0;32m      2\u001b[0m \u001b[38;5;124;03m''' \u001b[39;00m\n\u001b[0;32m      3\u001b[0m \u001b[38;5;124;03mMean = average value\u001b[39;00m\n\u001b[0;32m      4\u001b[0m \u001b[38;5;124;03mmedian = central value\u001b[39;00m\n\u001b[0;32m      5\u001b[0m \u001b[38;5;124;03many random constant value\u001b[39;00m\n\u001b[0;32m      6\u001b[0m \u001b[38;5;124;03m'''\u001b[39;00m\n\u001b[1;32m----> 7\u001b[0m df\n",
      "\u001b[1;31mNameError\u001b[0m: name 'df' is not defined"
     ]
    }
   ],
   "source": [
    "#Imputation Strategy\n",
    "''' \n",
    "Mean = average value\n",
    "median = central value\n",
    "any random constant value\n",
    "'''\n",
    "import pandas as pd\n"
   ]
  }
 ],
 "metadata": {
  "kernelspec": {
   "display_name": "base",
   "language": "python",
   "name": "python3"
  },
  "language_info": {
   "codemirror_mode": {
    "name": "ipython",
    "version": 3
   },
   "file_extension": ".py",
   "mimetype": "text/x-python",
   "name": "python",
   "nbconvert_exporter": "python",
   "pygments_lexer": "ipython3",
   "version": "3.12.7"
  }
 },
 "nbformat": 4,
 "nbformat_minor": 5
}
