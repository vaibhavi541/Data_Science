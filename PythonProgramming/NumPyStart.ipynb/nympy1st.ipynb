{
 "cells": [
  {
   "cell_type": "code",
   "execution_count": 1,
   "id": "43fc6604",
   "metadata": {},
   "outputs": [
    {
     "name": "stdout",
     "output_type": "stream",
     "text": [
      "[10 20 30]\n"
     ]
    }
   ],
   "source": [
    "import numpy as np\n",
    "#define list \n",
    "arr = [10,20,30]\n",
    "#define numpy array : narr\n",
    "narr = np.array(arr)\n",
    "print(narr)"
   ]
  },
  {
   "cell_type": "code",
   "execution_count": 2,
   "id": "6b724433",
   "metadata": {},
   "outputs": [
    {
     "name": "stdout",
     "output_type": "stream",
     "text": [
      "<class 'numpy.ndarray'>\n",
      "1\n"
     ]
    }
   ],
   "source": [
    "#check type of arr\n",
    "print(type(narr))\n",
    "print(narr.ndim)"
   ]
  },
  {
   "cell_type": "code",
   "execution_count": 3,
   "id": "bcfed271",
   "metadata": {},
   "outputs": [
    {
     "name": "stdout",
     "output_type": "stream",
     "text": [
      "<class 'numpy.ndarray'>\n",
      "1\n",
      "(3,)\n"
     ]
    }
   ],
   "source": [
    "#create 2D array\n",
    "arr = [[10,20,30],[40,50,60],[70,40,58]]\n",
    "print(type(narr))\n",
    "print(narr.ndim)\n",
    "print(narr.shape)"
   ]
  },
  {
   "cell_type": "code",
   "execution_count": 10,
   "id": "3c38411d",
   "metadata": {},
   "outputs": [
    {
     "data": {
      "text/plain": [
       "array([[0, 1, 2, 3, 4],\n",
       "       [5, 6, 7, 8, 9]])"
      ]
     },
     "execution_count": 10,
     "metadata": {},
     "output_type": "execute_result"
    }
   ],
   "source": [
    "''' \n",
    "number of elements presents in equal to array= 10\n",
    "is reshape array convert to specific 5 rows and 2 columns (2,5)\n",
    "padding = slicing image \n",
    "'''\n",
    "array = np.array([0,1,2,3,4,5,6,7,8,9])\n",
    "array.reshape(2,5)   # that is 5 rows 3 columns also used  "
   ]
  },
  {
   "cell_type": "code",
   "execution_count": 11,
   "id": "86afb973",
   "metadata": {},
   "outputs": [
    {
     "data": {
      "text/plain": [
       "(np.int64(0), np.int64(9), np.int64(45))"
      ]
     },
     "execution_count": 11,
     "metadata": {},
     "output_type": "execute_result"
    }
   ],
   "source": [
    "array.min() , array.max() , array.sum()  # 0 axis is called x axis & 1 called y axis"
   ]
  },
  {
   "cell_type": "markdown",
   "id": "08fd66cf",
   "metadata": {},
   "source": [
    "Most IMP topic Flattering \n"
   ]
  },
  {
   "cell_type": "code",
   "execution_count": null,
   "id": "89919e05",
   "metadata": {},
   "outputs": [],
   "source": [
    "#create two dimensional array and use flatten \n",
    "#flatten(): converts multi dimensin array to 1D array use for image pro"
   ]
  },
  {
   "cell_type": "code",
   "execution_count": 13,
   "id": "1eb13648",
   "metadata": {},
   "outputs": [
    {
     "name": "stdout",
     "output_type": "stream",
     "text": [
      "[[10, 20], [30, 40], [50, 60]]\n",
      "<class 'list'>\n"
     ]
    }
   ],
   "source": [
    "#create two dimensional array and use flatten function most important\n",
    "#flatten(): is function converts multi dimensin array to 1D array use for image process used in ml\n",
    "array = np.array([[10,20],[30,40],[50,60]])\n",
    "array.flatten()\n",
    "# tolist() : function is convert numpy array to list \n",
    "lst=array.tolist()  \n",
    "print(lst)\n",
    "print(type(lst))"
   ]
  },
  {
   "cell_type": "code",
   "execution_count": null,
   "id": "7e1b2a24",
   "metadata": {},
   "outputs": [
    {
     "data": {
      "text/plain": [
       "array([[0., 0., 0.],\n",
       "       [0., 0., 0.],\n",
       "       [0., 0., 0.]])"
      ]
     },
     "execution_count": 14,
     "metadata": {},
     "output_type": "execute_result"
    }
   ],
   "source": [
    "z = np.zeros((3,3)) #always written 2 brackets and float type \n",
    "z"
   ]
  },
  {
   "cell_type": "code",
   "execution_count": 16,
   "id": "4481ece6",
   "metadata": {},
   "outputs": [
    {
     "data": {
      "text/plain": [
       "array([[1., 1., 1., 1.],\n",
       "       [1., 1., 1., 1.],\n",
       "       [1., 1., 1., 1.]])"
      ]
     },
     "execution_count": 16,
     "metadata": {},
     "output_type": "execute_result"
    }
   ],
   "source": [
    "o = np.ones((3,4)) # ALL matrics involve is 1 \n",
    "o"
   ]
  },
  {
   "cell_type": "code",
   "execution_count": null,
   "id": "4000697e",
   "metadata": {},
   "outputs": [
    {
     "data": {
      "text/plain": [
       "array([[1., 0., 0., 0., 0., 0.],\n",
       "       [0., 1., 0., 0., 0., 0.],\n",
       "       [0., 0., 1., 0., 0., 0.],\n",
       "       [0., 0., 0., 1., 0., 0.],\n",
       "       [0., 0., 0., 0., 1., 0.],\n",
       "       [0., 0., 0., 0., 0., 1.]])"
      ]
     },
     "execution_count": 17,
     "metadata": {},
     "output_type": "execute_result"
    }
   ],
   "source": [
    "e = np.eye(6) # square matrics means diagonal 1 same \n",
    "e"
   ]
  },
  {
   "cell_type": "code",
   "execution_count": null,
   "id": "b2c13edd",
   "metadata": {},
   "outputs": [
    {
     "data": {
      "text/plain": [
       "array([ 0,  1,  2,  3,  4,  5,  6,  7,  8,  9, 10, 11, 12, 13, 14, 15, 16,\n",
       "       17, 18, 19])"
      ]
     },
     "execution_count": 26,
     "metadata": {},
     "output_type": "execute_result"
    }
   ],
   "source": [
    "# arrange() function: create automatic array using slicing tric (start,stop,step)\n",
    "# same as create list \n",
    "array = np.arange(0,20)\n",
    "array"
   ]
  },
  {
   "cell_type": "code",
   "execution_count": 28,
   "id": "35a0d110",
   "metadata": {},
   "outputs": [
    {
     "name": "stdout",
     "output_type": "stream",
     "text": [
      "3\n",
      "[[[ 0  1  2  3]\n",
      "  [ 4  5  6  7]\n",
      "  [ 8  9 10 11]\n",
      "  [12 13 14 15]\n",
      "  [16 17 18 19]]]\n"
     ]
    }
   ],
   "source": [
    "'''Ques. i want to arrange my array in 2 dimenstion \n",
    "reshape convert to 1D array to multiD\n",
    " flatten convert to MultiD to 1D'''\n",
    "narray = array.reshape(1,5,4)\n",
    "print(narray.ndim)\n",
    "print(narray)"
   ]
  },
  {
   "cell_type": "code",
   "execution_count": 29,
   "id": "89f4fb11",
   "metadata": {},
   "outputs": [
    {
     "data": {
      "text/plain": [
       "np.float64(5.766281297335398)"
      ]
     },
     "execution_count": 29,
     "metadata": {},
     "output_type": "execute_result"
    }
   ],
   "source": [
    "narray.std()"
   ]
  },
  {
   "cell_type": "code",
   "execution_count": 30,
   "id": "f68b369d",
   "metadata": {},
   "outputs": [
    {
     "data": {
      "text/plain": [
       "np.float64(33.25)"
      ]
     },
     "execution_count": 30,
     "metadata": {},
     "output_type": "execute_result"
    }
   ],
   "source": [
    "narray.var() # variances "
   ]
  }
 ],
 "metadata": {
  "kernelspec": {
   "display_name": "base",
   "language": "python",
   "name": "python3"
  },
  "language_info": {
   "codemirror_mode": {
    "name": "ipython",
    "version": 3
   },
   "file_extension": ".py",
   "mimetype": "text/x-python",
   "name": "python",
   "nbconvert_exporter": "python",
   "pygments_lexer": "ipython3",
   "version": "3.12.7"
  }
 },
 "nbformat": 4,
 "nbformat_minor": 5
}
