{
 "cells": [
  {
   "cell_type": "markdown",
   "id": "781ae4a5",
   "metadata": {},
   "source": [
    " NumPy Vectorised form of array"
   ]
  },
  {
   "cell_type": "code",
   "execution_count": 3,
   "id": "4f3dcd27",
   "metadata": {},
   "outputs": [
    {
     "name": "stdout",
     "output_type": "stream",
     "text": [
      "[[ 1  2  3  4  5  6]\n",
      " [ 7  8  9 10 11 12]\n",
      " [13 14 15 16 17 18]\n",
      " [19 20 21 22 23 24]\n",
      " [25 26 27 28 29 30]]\n"
     ]
    },
    {
     "data": {
      "text/plain": [
       "array([ 1,  2,  3,  4,  5,  6,  7,  8,  9, 10, 11, 12, 13, 14, 15, 16, 17,\n",
       "       18, 19, 20, 21, 22, 23, 24, 25, 26, 27, 28, 29, 30])"
      ]
     },
     "execution_count": 3,
     "metadata": {},
     "output_type": "execute_result"
    }
   ],
   "source": [
    "# create two dimension array aving 6 rows and 5 colmns \n",
    "#convert 1D array to multidim\n",
    "import numpy as np\n",
    "array = np.array(np.arange(1,31))\n",
    "two_array = array.reshape(5,6) # create  any variable two prit functn \n",
    "print(two_array)\n",
    "array"
   ]
  },
  {
   "cell_type": "code",
   "execution_count": null,
   "id": "47f2610e",
   "metadata": {},
   "outputs": [
    {
     "data": {
      "text/plain": [
       "array([[ 7,  8,  9],\n",
       "       [12, 13, 14]])"
      ]
     },
     "execution_count": 4,
     "metadata": {},
     "output_type": "execute_result"
    }
   ],
   "source": [
    "# slicing Que. i want to 7,8,9 and 2nd row 12,13,14\n",
    "two_array[1:3,1:4]\n",
    "# x is a row index, y is a column indx "
   ]
  },
  {
   "cell_type": "code",
   "execution_count": 5,
   "id": "c2ffdf73",
   "metadata": {},
   "outputs": [
    {
     "data": {
      "text/plain": [
       "array([[19, 20],\n",
       "       [24, 25],\n",
       "       [29, 30]])"
      ]
     },
     "execution_count": 5,
     "metadata": {},
     "output_type": "execute_result"
    }
   ],
   "source": [
    "two_array[3: , 3:]"
   ]
  },
  {
   "cell_type": "code",
   "execution_count": 7,
   "id": "4d0d942f",
   "metadata": {},
   "outputs": [
    {
     "data": {
      "text/plain": [
       "array([[30]])"
      ]
     },
     "execution_count": 7,
     "metadata": {},
     "output_type": "execute_result"
    }
   ],
   "source": [
    "two_array[5: ,-1:] # -1 is called start last element "
   ]
  },
  {
   "cell_type": "code",
   "execution_count": null,
   "id": "6ff23f38",
   "metadata": {},
   "outputs": [
    {
     "name": "stdout",
     "output_type": "stream",
     "text": [
      "30\n"
     ]
    }
   ],
   "source": [
    "# i want to only 30 and placed on 0 index \n",
    "# -1 is called start last element \n",
    "print(two_array[5:,-1:][0][0])"
   ]
  },
  {
   "cell_type": "code",
   "execution_count": null,
   "id": "d1ec7cdb",
   "metadata": {},
   "outputs": [
    {
     "name": "stdout",
     "output_type": "stream",
     "text": [
      "[ 50  70 108]\n",
      "[ 600 1200 2891]\n"
     ]
    }
   ],
   "source": [
    "# statistical function maths  function aggregate function \n",
    "a= np.array([20,30,49])\n",
    "b= np.array([30,40,59])\n",
    "print(a+b) # add all column vise  value\n",
    "print(a*b)"
   ]
  }
 ],
 "metadata": {
  "kernelspec": {
   "display_name": "base",
   "language": "python",
   "name": "python3"
  },
  "language_info": {
   "codemirror_mode": {
    "name": "ipython",
    "version": 3
   },
   "file_extension": ".py",
   "mimetype": "text/x-python",
   "name": "python",
   "nbconvert_exporter": "python",
   "pygments_lexer": "ipython3",
   "version": "3.12.7"
  }
 },
 "nbformat": 4,
 "nbformat_minor": 5
}
